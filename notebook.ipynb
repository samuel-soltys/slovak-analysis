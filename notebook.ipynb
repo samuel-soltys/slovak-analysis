{
 "cells": [
  {
   "attachments": {},
   "cell_type": "markdown",
   "metadata": {},
   "source": [
    "# Importing libraries"
   ]
  },
  {
   "cell_type": "code",
   "execution_count": null,
   "metadata": {},
   "outputs": [],
   "source": [
    "# Importing libraries\n",
    "import pandas as pd\n",
    "import matplotlib.pyplot as plt \n",
    "import seaborn as sb\n",
    "import geopandas as gpd\n",
    "import geoplot\n",
    "import geoplot.crs as gcrs\n",
    "import mapclassify\n",
    "import numpy as np\n",
    "#\n",
    "import adjustText as aT"
   ]
  },
  {
   "attachments": {},
   "cell_type": "markdown",
   "metadata": {},
   "source": [
    "# Data Loading and Pre-processing"
   ]
  },
  {
   "cell_type": "code",
   "execution_count": null,
   "metadata": {},
   "outputs": [],
   "source": [
    "file_name =  \"data/ESC_formatted.xlsx\"\n",
    "\n",
    "# loading DataFrames\n",
    "pocet_obyvatelov = pd.read_excel(io=file_name, sheet_name=0)\n",
    "# priemerna_mzda_bez_spocitanych = pd.read_excel(io=file_name, sheet_name=11)\n",
    "narodeni = pd.read_excel(io=file_name, sheet_name=1)\n",
    "zomreti = pd.read_excel(io=file_name, sheet_name=2)\n",
    "vnutorna_migracia_pristahovani = pd.read_excel(io=file_name, sheet_name=3)\n",
    "vnutorna_migracia_vystahovani = pd.read_excel(io=file_name, sheet_name=4)\n",
    "zahranicna_migracia_vystahovani = pd.read_excel(io=file_name, sheet_name=5)\n",
    "zahranicna_migracia_pristahovani = pd.read_excel(io=file_name, sheet_name=6)\n",
    "priemerna_mzda = pd.read_excel(io=file_name, sheet_name=7)\n",
    "zamestnanost = pd.read_excel(io=file_name, sheet_name=8)\n",
    "pocet_gymnazii = pd.read_excel(io=file_name, sheet_name=9)\n",
    "pocet_strednych_odbornych_skol = pd.read_excel(io=file_name, sheet_name=10)\n",
    "\n",
    "# arrays of names and dataframes\n",
    "dataframes = [pocet_obyvatelov, narodeni, zomreti, vnutorna_migracia_pristahovani, vnutorna_migracia_vystahovani, zahranicna_migracia_vystahovani, zahranicna_migracia_pristahovani, priemerna_mzda, zamestnanost, pocet_gymnazii, pocet_strednych_odbornych_skol]\n",
    "names_of_datagrames = [\"pocet_obyvatelov\", \"narodeni\", \"zomreti\", \"vnutorna_migracia_pristahovani\", \"vnutorna_migracia_vystahovani\", \"zahranicna_migracia_vystahovani\", \"zahranicna_migracia_pristahovani\", \"priemerna_mzda\", \"zamestnanost\", \"pocet_gymnazii\", \"pocet_strednych_odbornych_skol\"]\n",
    "\n",
    "# creating dictionary of dataframes for each year from 2010 to 2021\n",
    "years = {}\n",
    "for year in range(2010,2022):\n",
    "    years[year] = pd.DataFrame(pocet_obyvatelov[\"Okres\"])\n",
    "    for i in range(len(dataframes)):\n",
    "        years[year][names_of_datagrames[i]] = dataframes[i][year]\n"
   ]
  },
  {
   "cell_type": "code",
   "execution_count": null,
   "metadata": {},
   "outputs": [],
   "source": [
    "# check if every dataframe column \"Okres\" is the same in every dataframe, print only true or false\n",
    "print(pocet_obyvatelov[\"Okres\"].to_list() == narodeni[\"Okres\"].to_list() == zomreti[\"Okres\"].to_list() == vnutorna_migracia_pristahovani[\"Okres\"].to_list() == vnutorna_migracia_vystahovani[\"Okres\"].to_list() == zahranicna_migracia_vystahovani[\"Okres\"].to_list() == zahranicna_migracia_pristahovani[\"Okres\"].to_list() == priemerna_mzda[\"Okres\"].to_list() == zamestnanost[\"Okres\"].to_list() == pocet_gymnazii[\"Okres\"].to_list() == pocet_strednych_odbornych_skol[\"Okres\"].to_list())"
   ]
  },
  {
   "cell_type": "code",
   "execution_count": null,
   "metadata": {},
   "outputs": [],
   "source": [
    "def set_DPI():\n",
    "    fig, ax = plt.subplots()\n",
    "    fig.set_dpi(100)\n",
    "    plt.grid(color = '#458EBC', linestyle = '--', linewidth = 0.5)\n",
    "    ax.ticklabel_format(style='plain')"
   ]
  },
  {
   "attachments": {},
   "cell_type": "markdown",
   "metadata": {},
   "source": [
    "# MISC commands (debug tools)"
   ]
  },
  {
   "cell_type": "code",
   "execution_count": null,
   "metadata": {},
   "outputs": [],
   "source": [
    "# MISC getting row of Okres Bratislava I\n",
    "# print(years[2010][years[2010][\"Okres\"] == \"Okres Bratislava I\"])"
   ]
  },
  {
   "cell_type": "code",
   "execution_count": null,
   "metadata": {},
   "outputs": [],
   "source": [
    "# # plotting correlation heatmap for every year\n",
    "# for year in range(2010,2022):\n",
    "#     correlation_matrix_data = years[year]\n",
    "    \n",
    "#     mask = np.triu(np.ones_like(correlation_matrix_data.corr(), dtype=bool))\n",
    "#     # print(correlation_matrix_data.corr())\n",
    "#     dataplot=sb.heatmap(correlation_matrix_data.corr(), annot=True, cmap=\"YlGnBu\", mask = mask)\n",
    "\n",
    "#     # displaying heatmaps\n",
    "#     plt.show()"
   ]
  },
  {
   "cell_type": "code",
   "execution_count": null,
   "metadata": {},
   "outputs": [],
   "source": [
    "# from scipy.optimize import curve_fit\n",
    "\n",
    "# # this is the function we want to fit\n",
    "# def func(x, a, c):\n",
    "#     return a*x*x + c\n",
    "\n",
    "# p_opt, p_cov = curve_fit(func, years[YEAR][X], years[YEAR][Y])\n",
    "\n",
    "# print(p_opt)\n",
    "# a, c = p_opt\n",
    "# sb.scatterplot(data=years[YEAR], x=X, y=Y) # hue=\"Okres\"\n",
    "# sb.lmplot(data=years[YEAR], x=X, y=Y, line_kws={\"color\": \"red\"})\n",
    "# plt.plot(years[YEAR][X], func(years[YEAR][X], a, c), \"g--\", label=\"fit: a=%5.3f, c=%5.3f\" % tuple(p_opt))\n"
   ]
  },
  {
   "cell_type": "code",
   "execution_count": null,
   "metadata": {},
   "outputs": [],
   "source": [
    "# def average_correlation_coefficient(X, Y):\n",
    "#     sum_of_correlations = 0\n",
    "#     for year in range(2010,2022):\n",
    "#         sum_of_correlations += years[year][X].corr(years[year][Y])\n",
    "#         print(year, \": \", years[year][X].corr(years[year][Y]))\n",
    "#     print(sum_of_correlations / 12)\n",
    "#     return sum_of_correlations / 12\n",
    "\n"
   ]
  },
  {
   "attachments": {},
   "cell_type": "markdown",
   "metadata": {},
   "source": [
    "# Average correlation heatmap"
   ]
  },
  {
   "cell_type": "code",
   "execution_count": null,
   "metadata": {},
   "outputs": [],
   "source": [
    "# sb.set(font_scale=2)\n",
    "sum_of_correlations = years[2010].corr()\n",
    "\n",
    "for year in range(2011,2022):\n",
    "    sum_of_correlations += years[year].corr()\n",
    "\n",
    "sum_of_correlations = sum_of_correlations / 12\n",
    "\n",
    "fig, ax = plt.subplots(figsize=(12,7)) \n",
    "\n",
    "mask = np.triu(np.ones_like(years[2010].corr(), dtype=bool))\n",
    "dataplot=sb.heatmap(sum_of_correlations, annot=True, cmap=\"YlGnBu\", ax = ax)\n",
    "plt.savefig(\"figures/map.png\", transparent=True, bbox_inches = 'tight', dpi=300)\n",
    "# set font size generally\n",
    "\n",
    "years[2010].head()"
   ]
  },
  {
   "attachments": {},
   "cell_type": "markdown",
   "metadata": {},
   "source": [
    "---"
   ]
  },
  {
   "attachments": {},
   "cell_type": "markdown",
   "metadata": {},
   "source": [
    "# STATISTICKE VYPOCTY DO TABULKY NA DATAFRAMES"
   ]
  },
  {
   "cell_type": "code",
   "execution_count": null,
   "metadata": {},
   "outputs": [],
   "source": [
    "# round the list\n",
    "def round_list(list):\n",
    "    for i in range(len(list)):\n",
    "        list[i] = round(list[i])\n",
    "    return list\n",
    "print(round_list(priemerna_mzda.var().to_list()))\n",
    "\n",
    "# \n",
    "\"\"\"\n",
    "# priemer vsetkych okresov\n",
    "print(\"Mean: \", priemerna_mzda.mean())\n",
    "\n",
    "# minimum vsetkych okresov\n",
    "print(\"Min\", priemerna_mzda.min())\n",
    "\n",
    "# maximum vsetkych okresov\n",
    "print(\"Max\", priemerna_mzda.max())\n",
    "\n",
    "# dolny kvartil vsetkych okresov\n",
    "print(\"Dolny kvartil\",priemerna_mzda.quantile(0.25))\n",
    "\n",
    "# horny kvartil vsetkych okresov\n",
    "print(\"Horny kvartil\", priemerna_mzda.quantile(0.75))\n",
    "\n",
    "# median vsetkych okresov\n",
    "print(\"median\",priemerna_mzda.median())\n",
    "\n",
    "# standardna odchylka vsetkych okresov\n",
    "print(\"standardna odchylka\",priemerna_mzda.std())\n",
    "\n",
    "# smerodajna odchylka vsetkych okresov median aboslute devitaion\n",
    "print(\"smerodajna odchylka\",priemerna_mzda.mad())\n",
    "\n",
    "\n",
    "# Rozptyl vsetkych okresov\n",
    "print(\"Rozptyl\",priemerna_mzda.var())\n",
    "\n",
    "# koeficient kvartilovej odchýlky vsetkych okresov\n",
    "print(\"koeficient kvartilovej odchýlky\", (priemerna_mzda.quantile(0.75) - priemerna_mzda.quantile(0.25)) / (priemerna_mzda.max() - priemerna_mzda.min()))\n",
    "\"\"\""
   ]
  },
  {
   "attachments": {},
   "cell_type": "markdown",
   "metadata": {},
   "source": [
    "---"
   ]
  },
  {
   "attachments": {},
   "cell_type": "markdown",
   "metadata": {},
   "source": [
    "# Specific correlation plots"
   ]
  },
  {
   "attachments": {},
   "cell_type": "markdown",
   "metadata": {},
   "source": [
    "### Trh prace"
   ]
  },
  {
   "cell_type": "code",
   "execution_count": null,
   "metadata": {},
   "outputs": [],
   "source": [
    "# Zamestnanost a priemerna mzda zavislost\n",
    "YEAR = 2021\n",
    "year = years[YEAR]\n",
    "# X = year[\"zamestnanost\"] # / year[\"pocet_obyvatelov\"] * 100 # FIX pocet obyvatelov\n",
    "# Y = year[\"priemerna_mzda\"]\n",
    "# X = year[\"vnutorna_migracia_vystahovani\"]\n",
    "# Y = year[\"priemerna_mzda\"]\n",
    "\n",
    "# X = year[\"pocet_gymnazii\"] \n",
    "X = year[\"pocet_strednych_odbornych_skol\"] \n",
    "Y = year[\"zamestnanost\"]\n",
    "\n",
    "# # Migracia a zamestnanost zavislost \n",
    "# X = year[\"zahranicna_migracia_pristahovani\"] / year[\"pocet_obyvatelov\"] * 100\n",
    "# Y = year[\"zamestnanost\"] / year[\"pocet_obyvatelov\"] * 100"
   ]
  },
  {
   "cell_type": "code",
   "execution_count": null,
   "metadata": {},
   "outputs": [],
   "source": [
    "# SIMPLE PLOT OF X AND Y\n",
    "set_DPI()\n",
    "fig = sb.scatterplot(x=X, y=Y, color=\"#458EBC\") # hue=year[\"pocet_gymnazii\"]/year[\"pocet_obyvatelov\"]\n",
    "\n",
    "# fig = sb.regplot(x=X, y=Y, color=\"#458EBC\")\n",
    "# fig.set_xlabel(\"Pomer zamestnaných ľudí na počet obyvateľov v okrese (%)\")\n",
    "fig.set_xlabel(\"Počet stredných odborných škôl v okrese\")\n",
    "fig.set_ylabel(\"Počet zamestnaných ľudí v okrese\")\n",
    "# sb font scael\n",
    "\n",
    "\n",
    "# fig.set_xlabel(\"vnitorna migracia pristahovany v okrese\")\n",
    "# fig.set_ylabel(\"priemerna mzda v okrese (€)\")\n",
    "\n",
    "m, b = np.polyfit(X, Y, 1)\n",
    "plt.plot(X, m*X + b, color=\"#243187\")\n",
    "# print math model of the plot\n",
    "print(\"y = \", m, \"x + \", b)\n",
    "\n",
    "# plt.xticks(np.arange(min(X)-2.5, max(X), 25))\n",
    "\n",
    "# correltion coefficient of X and Y\n",
    "plt.savefig(\"figures/pocet-SOŠ-zamestnanost-zavislost.png\", transparent=True, dpi=300, bbox_inches = 'tight')\n",
    "print(\"Correlation coefficient: \", X.corr(Y))\n",
    "# AVERAGE CORRELATION\n",
    "# summ = 0\n",
    "# for i in range(2010,2022):\n",
    "#     one = years[i][\"zamestnanost\"] / years[i][\"pocet_obyvatelov\"] * 100\n",
    "#     two = years[i][\"priemerna_mzda\"]\n",
    "#     print(i, \": \", one.corr(two))\n",
    "#     summ += one.corr(two)\n",
    "# print(\"Average: \", summ/12) \n"
   ]
  },
  {
   "cell_type": "code",
   "execution_count": null,
   "metadata": {},
   "outputs": [],
   "source": [
    "# LINEAR REGRESSION FITED TO PLOT OF X AND Y\n",
    "set_DPI()\n",
    "sb.regplot(x=X, y=Y, line_kws={\"color\": \"green\"}) # hue=\"Okres\""
   ]
  },
  {
   "attachments": {},
   "cell_type": "markdown",
   "metadata": {},
   "source": [
    "### Populacia"
   ]
  },
  {
   "cell_type": "code",
   "execution_count": null,
   "metadata": {},
   "outputs": [],
   "source": []
  },
  {
   "attachments": {},
   "cell_type": "markdown",
   "metadata": {},
   "source": [
    "### Vzdelanie"
   ]
  },
  {
   "cell_type": "code",
   "execution_count": null,
   "metadata": {},
   "outputs": [],
   "source": [
    "# X = year[\"zamestnanost\"] / year[\"pocet_obyvatelov\"] * 100\n",
    "# Y = year[\"pocet_gymnazii\"] /year[\"pocet_obyvatelov\"]"
   ]
  },
  {
   "attachments": {},
   "cell_type": "markdown",
   "metadata": {},
   "source": [
    "# Graphs in time"
   ]
  },
  {
   "attachments": {},
   "cell_type": "markdown",
   "metadata": {},
   "source": [
    "### Trh prace"
   ]
  },
  {
   "cell_type": "code",
   "execution_count": null,
   "metadata": {},
   "outputs": [],
   "source": [
    "set_DPI()\n",
    "years_range = range(2010,2022)\n",
    "\n",
    "# kazdy okres samostatne\n",
    "# for i in range(len(priemerna_mzda)):\n",
    "#     fig = sb.lineplot(x=years_range, y=priemerna_mzda.iloc[i][1:])\n",
    "\n",
    "# priemerna mzda vsetkych okresov\n",
    "fig = sb.lineplot(x=years_range, y=priemerna_mzda.drop(columns=[\"Okres\"]).mean(), color=\"#458EBC\")\n",
    "\n",
    "fig.set_xlabel('Rok')\n",
    "fig.set_ylabel('Priemerná mzda na Slovensku (€)')\n",
    "plt.xticks(np.arange(2010, 2022, 1.0), rotation=45)\n",
    "# make a predition for x=2030 year from list y=priemerna_mzda.drop(columns=[\"Okres\"]).mean() and x=years_range\n",
    "print(\"Prediction for 2030: \", np.polyfit(years_range, priemerna_mzda.drop(columns=[\"Okres\"]).mean(), 1)[0]*2030 + np.polyfit(years_range, priemerna_mzda.drop(columns=[\"Okres\"]).mean(), 1)[1])\n",
    "\n",
    "plt.savefig(\"figures/priemerna_mzda_v_case.png\", transparent=True, dpi=300)\n",
    "plt.show()\n",
    "\n",
    "set_DPI()\n",
    "# percento zamestnanych vsetkych okresov v case\n",
    "priemerna_zamestnanost = []\n",
    "for year in range(2010,2022):\n",
    "    priemerna_zamestnanost.append(sum(years[year][\"zamestnanost\"]) / sum(years[year][\"pocet_obyvatelov\"]) * 100)\n",
    "fig = sb.lineplot(x=years_range, y=priemerna_zamestnanost, color=\"#458EBC\")\n",
    "fig.set_xlabel('Rok')\n",
    "fig.set_ylabel('Priemerná zamestnanosť na Slovensku(%)')\n",
    "plt.xticks(np.arange(2010, 2022, 1.0), rotation=45)\n",
    "# make a predition for x=2030 year from list y=priemerna_zamestnanost and x=years_range\n",
    "print(\"Prediction for 2030: \", np.polyfit(years_range, priemerna_zamestnanost, 1)[0]*2030 + np.polyfit(years_range, priemerna_zamestnanost, 1)[1])\n",
    "print(priemerna_zamestnanost)\n",
    "plt.savefig(\"figures/priemerna_zamestnanost_v_case.png\", transparent=True, dpi=300)"
   ]
  },
  {
   "attachments": {},
   "cell_type": "markdown",
   "metadata": {},
   "source": [
    "### Populacia"
   ]
  },
  {
   "attachments": {},
   "cell_type": "markdown",
   "metadata": {},
   "source": [
    "#### Pocet obyvatelov"
   ]
  },
  {
   "cell_type": "code",
   "execution_count": null,
   "metadata": {},
   "outputs": [],
   "source": [
    "years_range = range(2010,2022)\n",
    "\n",
    "pocet_obyvatelov_total = []\n",
    "for year in range(2010,2022):\n",
    "    pocet_obyvatelov_total.append(sum(years[year][\"pocet_obyvatelov\"]))\n",
    "fig, ax = plt.subplots()\n",
    "\n",
    "for x1, x2, y1,y2 in zip(years_range, years_range[1:], pocet_obyvatelov_total, pocet_obyvatelov_total[1:]):\n",
    "    if y1 > y2:\n",
    "        plt.plot([x1, x2], [y1, y2], 'r')\n",
    "    elif y1 < y2:\n",
    "        plt.plot([x1, x2], [y1, y2], 'g')\n",
    "    else:\n",
    "        plt.plot([x1, x2], [y1, y2], 'b')\n",
    "\n",
    "plt.xlabel(\"Rok\")\n",
    "plt.ylabel(\"Počet obyvateľov na Slovensku\")\n",
    "plt.xticks(np.arange(2010, 2022, 1.0), rotation=45)\n",
    "plt.grid(color = '#458EBC', linestyle = '--', linewidth = 0.5)\n",
    "ax.ticklabel_format(style='plain')\n",
    "\n",
    "# make a predition for x=2030 year from list y=pocet_obyvatelov_total and x=years_range\n",
    "print(\"Prediction for 2030: \", np.polyfit(years_range, pocet_obyvatelov_total, 1)[0]*2030 + np.polyfit(years_range, pocet_obyvatelov_total, 1)[1],\"year coeficient\" , np.polyfit(years_range, pocet_obyvatelov_total, 1)[0])\n",
    "\n",
    "\n",
    "plt.savefig(\"figures/pocet_obyvatelov_cas.png\", transparent=True, dpi=300, bbox_inches = 'tight')"
   ]
  },
  {
   "attachments": {},
   "cell_type": "markdown",
   "metadata": {},
   "source": [
    "#### Umrtnost %"
   ]
  },
  {
   "cell_type": "code",
   "execution_count": null,
   "metadata": {},
   "outputs": [],
   "source": [
    "years_range = range(2010,2022)\n",
    "\n",
    "# percento zamestnanych vsetkych okresov v case\n",
    "umrtnost_na_pocet_obyvatelov_total = []\n",
    "zomreti_total = []\n",
    "for year in range(2010,2022):\n",
    "    umrtnost_na_pocet_obyvatelov_total.append((sum(years[year][\"zomreti\"])/sum(years[year][\"pocet_obyvatelov\"])) * 100)\n",
    "    zomreti_total.append(sum(years[year][\"zomreti\"]))\n",
    "fig, ax = plt.subplots()\n",
    "\n",
    "for x1, x2, y1,y2 in zip(years_range, years_range[1:], umrtnost_na_pocet_obyvatelov_total, umrtnost_na_pocet_obyvatelov_total[1:]):\n",
    "    if y1 > y2:\n",
    "        plt.plot([x1, x2], [y1, y2], 'g')\n",
    "    elif y1 < y2:\n",
    "        plt.plot([x1, x2], [y1, y2], 'r')\n",
    "    else:\n",
    "        plt.plot([x1, x2], [y1, y2], 'b')\n",
    "print(umrtnost_na_pocet_obyvatelov_total)\n",
    "plt.xlabel(\"Rok\")\n",
    "plt.ylabel(\"Percentuálna úmrtnosť na Slovensku (%)\")\n",
    "plt.xticks(np.arange(2010, 2022, 1.0), rotation=45)\n",
    "plt.grid(color = '#458EBC', linestyle = '--', linewidth = 0.5)\n",
    "ax.ticklabel_format(style='plain')\n",
    "# make a predition for x=2030 year from list y=zomreti_total and x=years_range (not the umrtnost_na_pocet_obyvatelov_total)\n",
    "# print(zomreti_total)\n",
    "# print(zomreti_total[:-2])\n",
    "print(\"Prediction for 2030: \", np.polyfit(years_range[:-1], zomreti_total[:-1], 1)[0]*2030 + np.polyfit(years_range[:-1], zomreti_total[:-1], 1)[1])\n",
    "\n",
    "plt.savefig(\"figures/umrtnost_na_pocet_obyvatelov_cas.png\", transparent=True, dpi=300, bbox_inches = 'tight')"
   ]
  },
  {
   "attachments": {},
   "cell_type": "markdown",
   "metadata": {},
   "source": [
    "#### Narodenie %"
   ]
  },
  {
   "cell_type": "code",
   "execution_count": null,
   "metadata": {},
   "outputs": [],
   "source": [
    "years_range = range(2010,2022)\n",
    "\n",
    "# percento zamestnanych vsetkych okresov v case\n",
    "narodenie_na_pocet_obyvatelov_total = []\n",
    "for year in range(2010,2022):\n",
    "    narodenie_na_pocet_obyvatelov_total.append((sum(years[year][\"narodeni\"])/sum(years[year][\"pocet_obyvatelov\"])) * 100)\n",
    "fig, ax = plt.subplots()\n",
    "\n",
    "for x1, x2, y1,y2 in zip(years_range, years_range[1:], narodenie_na_pocet_obyvatelov_total, narodenie_na_pocet_obyvatelov_total[1:]):\n",
    "    if y1 > y2:\n",
    "        plt.plot([x1, x2], [y1, y2], 'r')\n",
    "    elif y1 < y2:\n",
    "        plt.plot([x1, x2], [y1, y2], 'g')\n",
    "    else:\n",
    "        plt.plot([x1, x2], [y1, y2], 'b')\n",
    "\n",
    "plt.xlabel(\"Rok\")\n",
    "plt.ylabel(\"Percentuálna pôrodnosť na Slovensku (%)\")\n",
    "plt.xticks(np.arange(2010, 2022, 1.0), rotation=45)\n",
    "plt.grid(color = '#458EBC', linestyle = '--', linewidth = 0.5)\n",
    "ax.ticklabel_format(style='plain')\n",
    "\n",
    "plt.savefig(\"figures/porodnost_na_pocet_obyvatelov_cas.png\", transparent=True, dpi=300, bbox_inches = 'tight')"
   ]
  },
  {
   "attachments": {},
   "cell_type": "markdown",
   "metadata": {},
   "source": [
    "### Migracia"
   ]
  },
  {
   "cell_type": "code",
   "execution_count": null,
   "metadata": {},
   "outputs": [],
   "source": [
    "years_range = range(2010,2022)\n",
    "\n",
    "# percento zamestnanych vsetkych okresov v case\n",
    "migracia = []\n",
    "for year in range(2010,2022):\n",
    "    migracia.append(sum(years[year][\"vnutorna_migracia_pristahovani\"]))\n",
    "    # print(sum(years[year][\"vnutorna_migracia_vystahovani\"]) == sum(years[year][\"vnutorna_migracia_pristahovani\"]) )\n",
    "sb.lineplot(x=years_range, y=migracia)\n",
    "    # fig, ax = plt.subplots()\n",
    "\n",
    "# for x1, x2, y1,y2 in zip(years_range, years_range[1:], migracia, migracia[1:]):\n",
    "#     if y1 > y2:\n",
    "#         plt.plot([x1, x2], [y1, y2], 'r')\n",
    "#     elif y1 < y2:\n",
    "#         plt.plot([x1, x2], [y1, y2], 'g')\n",
    "#     else:\n",
    "#         plt.plot([x1, x2], [y1, y2], 'b')\n",
    "\n",
    "plt.xlabel(\"Rok\")\n",
    "plt.ylabel(\"Počet prisťahovaných ľudí zo zahraničia\")\n",
    "plt.xticks(np.arange(2010, 2022, 1.0), rotation=45)\n",
    "plt.grid(color = '#458EBC', linestyle = '--', linewidth = 0.5)\n",
    "ax.ticklabel_format(style='plain')\n",
    "# make a prediction where x=2030 year, and y = migracia and x=years_range\n",
    "print(\"Prediction for 2030: \", np.polyfit(years_range, migracia, 1)[0]*2030 + np.polyfit(years_range, migracia, 1)[1])\n",
    "\n",
    "# plt.savefig(\"figures/celkova_zahranicna_pristahovanost_obyvatelov_cas.png\", transparent=True, dpi=300, bbox_inches = 'tight')"
   ]
  },
  {
   "cell_type": "code",
   "execution_count": null,
   "metadata": {},
   "outputs": [],
   "source": [
    "set_DPI()\n",
    "sb.lineplot(x=years_range, y=vnutorna_migracia_vystahovani[vnutorna_migracia_vystahovani[\"Okres\"] == \"Okres Senec\"].iloc[0].to_list()[1:])\n",
    "\n",
    "plt.ylabel(\"Počet vysťahovaných ľudí zo Senca do ostatných okresov\")\n",
    "plt.xticks(np.arange(2010, 2022, 1.0), rotation=45)\n",
    "plt.grid(color = '#458EBC', linestyle = '--', linewidth = 0.5)\n",
    "\n",
    "plt.savefig(\"figures/vnutorna_vystahovanost_obyvatelov_senec_cas.png\", transparent=True, dpi=300, bbox_inches = 'tight')"
   ]
  },
  {
   "attachments": {},
   "cell_type": "markdown",
   "metadata": {},
   "source": [
    "# Heatmap of Slovak districts"
   ]
  },
  {
   "cell_type": "code",
   "execution_count": null,
   "metadata": {},
   "outputs": [],
   "source": [
    "map = gpd.read_file(\"geodata-slovak-districts.json\")\n",
    "geoplot.polyplot(map, projection=gcrs.AlbersEqualArea())\n",
    "\n",
    "map[\"TXT\"] = map[\"TXT\"].str.replace(\"okres\", \"Okres\")\n",
    "\n",
    "# map.apply(lambda x: plt.annotate(text=map[\"TXT\"], xy=(x.geometry.centroid.coords[0]), ha='center'), axis=1)\n",
    "\n",
    "# map[\"center\"] = map[\"geometry\"].centroid\n",
    "# map_points = map.copy()\n",
    "# map_points.set_geometry(\"center\", inplace = True)\n",
    "\n",
    "\n",
    "\n",
    "# map.plot(figsize = (15, 12), color = \"whitesmoke\", edgecolor = \"lightgrey\", linewidth = 0.5)\n",
    "# texts = []\n",
    "\n",
    "# for x, y, label in zip(map_points.geometry.x, map_points.geometry.y, map_points[\"TXT\"]):\n",
    "    # texts.append(plt.text(x, y, label[5:], fontsize = 8))\n",
    "    \n",
    "    # print(x, y, label[5:])\n",
    "    # xtran = gcrs.ccrs.AlbersEqualArea()\n",
    "    # x, y = xtran.transform_point(map_points.geometry.x, map_points.geometry.y, gcrs.PlateCarree())\n",
    "    # plt.annotate(label[5:], xy=(x, y))\n",
    "    # plt.annotate(label[5:], xy=(x, y), xytext=(x, y + 0.1), fontsize = 8, ha = \"center\", va = \"center\")\n",
    "\n",
    "\n",
    "# aT.adjust_text(texts, force_points=0.3, force_text=0.8, expand_points=(1,1), expand_text=(1,1), \n",
    "#                arrowprops=dict(arrowstyle=\"-\", color='grey', lw=0.5))\n",
    "\n",
    "map.head()"
   ]
  },
  {
   "attachments": {},
   "cell_type": "markdown",
   "metadata": {},
   "source": [
    "### Mzda"
   ]
  },
  {
   "cell_type": "code",
   "execution_count": null,
   "metadata": {},
   "outputs": [],
   "source": [
    "# make heatmap_data array from dataframe column \"priemerna_mzda\" in years[2021] dataframe, but index it by \"Okres\" column which is same as map[\"TXT\"] column\n",
    "YEAR = 2010\n",
    "heatmap_data = []\n",
    "for okres_name in map[\"TXT\"]:\n",
    "    heatmap_data.append(years[YEAR].loc[years[YEAR][\"Okres\"] == okres_name][\"priemerna_mzda\"].values[0])\n",
    "\n",
    "# scheme = mapclassify.Quantiles(heatmap_data, k=10)\n",
    "\n",
    "geoplot.choropleth(\n",
    "    map, hue=heatmap_data, cmap=\"YlGnBu\", figsize=(15, 6), projection=gcrs.AlbersEqualArea(), legend=True\n",
    ")\n",
    "\n",
    "plt.savefig(\"figures/map-mzda-2010.png\", transparent=True, dpi=300, bbox_inches = 'tight')\n",
    "# years[2021].head(10)"
   ]
  },
  {
   "attachments": {},
   "cell_type": "markdown",
   "metadata": {},
   "source": [
    "### Populacia"
   ]
  },
  {
   "cell_type": "code",
   "execution_count": null,
   "metadata": {},
   "outputs": [],
   "source": [
    "heatmap_data = []\n",
    "for okres_name in map[\"TXT\"]:\n",
    "    sum_calculation = 0\n",
    "    for year in range(2010,2022):\n",
    "        pocet_obyvarelov_v_okrese = years[year].loc[years[year][\"Okres\"] == okres_name][\"pocet_obyvatelov\"].values[0]\n",
    "        # print(okres_name, year, pocet_skol_v_okrese)\n",
    "        sum_calculation += pocet_obyvarelov_v_okrese\n",
    "        # sum_calculation += pocet_skol_v_okrese\n",
    "    # print(okres_name, sum_calculation/12)\n",
    "    heatmap_data.append(sum_calculation/12)\n",
    "# scheme = mapclassify.Quantiles(heatmap_data, k=10)\n",
    "\n",
    "geoplot.choropleth(\n",
    "    map, hue=heatmap_data, cmap=\"YlGnBu\", figsize=(15, 6), projection=gcrs.AlbersEqualArea(), legend=True\n",
    ")\n",
    "\n",
    "plt.savefig(\"figures/pocet-obyvatelov-mapka.png\", transparent=True, dpi=300, bbox_inches = 'tight')"
   ]
  },
  {
   "attachments": {},
   "cell_type": "markdown",
   "metadata": {},
   "source": [
    "### Umrtnost"
   ]
  },
  {
   "cell_type": "code",
   "execution_count": null,
   "metadata": {},
   "outputs": [],
   "source": [
    "# YEAR = 2021\n",
    "# heatmap_data = []\n",
    "# for okres_name in map[\"TXT\"]:\n",
    "#     zomreti = years[YEAR].loc[years[YEAR][\"Okres\"] == okres_name][\"zomreti\"].values[0]\n",
    "#     pocet_obyvatelov = years[YEAR].loc[years[YEAR][\"Okres\"] == okres_name][\"pocet_obyvatelov\"].values[0]\n",
    "#     heatmap_data.append(zomreti/pocet_obyvatelov*100)\n",
    "\n",
    "heatmap_data = []\n",
    "\n",
    "for okres_name in map[\"TXT\"]:\n",
    "    sum_calculation = 0\n",
    "    for year in range(2010,2022):\n",
    "        zomreti_mapa = years[year].loc[years[year][\"Okres\"] == okres_name][\"zomreti\"].values[0]\n",
    "        pocet_obyvatelov_mapa = years[year].loc[years[year][\"Okres\"] == okres_name][\"pocet_obyvatelov\"].values[0]\n",
    "        sum_calculation += zomreti_mapa/pocet_obyvatelov_mapa*100\n",
    "    heatmap_data.append(sum_calculation/12)\n",
    "    print(okres_name, sum_calculation/12)\n",
    "# scheme = mapclassify.Quantiles(heatmap_data, k=10)\n",
    "# print(max(heatmap_data), min(heatmap_data))\n",
    "geoplot.choropleth(\n",
    "    map, hue=heatmap_data, cmap=\"YlGnBu\", figsize=(15, 6), projection=gcrs.AlbersEqualArea(), legend=True, \n",
    ")\n",
    "\n",
    "plt.savefig(\"figures/umrtnost-mapka-average.png\", transparent=True, dpi=300, bbox_inches = 'tight')\n",
    "# years[2021].head(10)"
   ]
  },
  {
   "attachments": {},
   "cell_type": "markdown",
   "metadata": {},
   "source": [
    "### Narodenost"
   ]
  },
  {
   "cell_type": "code",
   "execution_count": null,
   "metadata": {},
   "outputs": [],
   "source": [
    "# YEAR = 2010\n",
    "# heatmap_data = []\n",
    "# for okres_name in map[\"TXT\"]:\n",
    "#     narodeni = years[YEAR].loc[years[YEAR][\"Okres\"] == okres_name][\"narodeni\"].values[0]\n",
    "#     pocet_obyvatelov = years[YEAR].loc[years[YEAR][\"Okres\"] == okres_name][\"pocet_obyvatelov\"].values[0]\n",
    "#     heatmap_data.append(narodeni/pocet_obyvatelov*100)\n",
    "\n",
    "# map[\"center\"] = map[\"geometry\"].centroid\n",
    "# map_points = map.copy()\n",
    "# map_points.set_geometry(\"center\", inplace = True)\n",
    "\n",
    "\n",
    "heatmap_data = []\n",
    "for okres_name in map[\"TXT\"]:\n",
    "    sum_calculation = 0\n",
    "    for year in range(2010,2022):\n",
    "        narodeni_mapa = years[year].loc[years[year][\"Okres\"] == okres_name][\"narodeni\"].values[0]\n",
    "        pocet_obyvatelov_mapa = years[year].loc[years[year][\"Okres\"] == okres_name][\"pocet_obyvatelov\"].values[0]\n",
    "        sum_calculation += narodeni_mapa/pocet_obyvatelov_mapa*100\n",
    "    heatmap_data.append(sum_calculation/12)\n",
    "\n",
    "# scheme = mapclassify.Quantiles(heatmap_data, k=10)\n",
    "\n",
    "geoplot.choropleth(\n",
    "    map, hue=heatmap_data, cmap=\"YlGnBu\", figsize=(15, 6), projection=gcrs.AlbersEqualArea(), legend=True\n",
    ")\n",
    "\n",
    "# for x, y, label in zip(map_points.geometry.x, map_points.geometry.y, map_points[\"TXT\"]):      # ANNOTATING LON AND LAT NOT X Y\n",
    "#     plt.annotate(label[5:], xy=(x, y))\n",
    "\n",
    "plt.savefig(\"figures/narodenost-mapka-average.png\", transparent=True, dpi=300, bbox_inches = 'tight')"
   ]
  },
  {
   "attachments": {},
   "cell_type": "markdown",
   "metadata": {},
   "source": [
    "### Migracia"
   ]
  },
  {
   "cell_type": "code",
   "execution_count": null,
   "metadata": {},
   "outputs": [],
   "source": [
    "heatmap_data = []\n",
    "for okres_name in map[\"TXT\"]:\n",
    "    sum_calculation = 0\n",
    "    for year in range(2010,2022):\n",
    "        sum_calculation += years[year].loc[years[year][\"Okres\"] == okres_name][\"zahranicna_migracia_vystahovani\"].values[0]\n",
    "    # print(okres_name, sum_calculation/12)\n",
    "    heatmap_data.append(sum_calculation/12)\n",
    "# scheme = mapclassify.Quantiles(heatmap_data, k=10)\n",
    "\n",
    "geoplot.choropleth(\n",
    "    map, hue=heatmap_data, cmap=\"YlGnBu\", figsize=(15, 6), projection=gcrs.AlbersEqualArea(), legend=True\n",
    ")\n",
    "\n",
    "plt.savefig(\"figures/zahranicne-vystahovanie-mapka.png\", transparent=True, dpi=300, bbox_inches = 'tight')"
   ]
  },
  {
   "attachments": {},
   "cell_type": "markdown",
   "metadata": {},
   "source": [
    "### Vzdelanie"
   ]
  },
  {
   "cell_type": "code",
   "execution_count": null,
   "metadata": {},
   "outputs": [],
   "source": [
    "heatmap_data = []\n",
    "for okres_name in map[\"TXT\"]:\n",
    "    sum_calculation = 0\n",
    "    for year in range(2010,2022):\n",
    "        pocet_skol_v_okrese = years[year].loc[years[year][\"Okres\"] == okres_name][\"pocet_gymnazii\"].values[0] + years[year].loc[years[year][\"Okres\"] == okres_name][\"pocet_strednych_odbornych_skol\"].values[0]\n",
    "        pocet_obyvarelov_v_okrese = years[year].loc[years[year][\"Okres\"] == okres_name][\"pocet_obyvatelov\"].values[0]\n",
    "        \n",
    "        sum_calculation += pocet_skol_v_okrese/pocet_obyvarelov_v_okrese*100\n",
    "        # sum_calculation += pocet_skol_v_okrese\n",
    "    # print(okres_name, sum_calculation/12)\n",
    "    print(okres_name, sum_calculation/12)\n",
    "    heatmap_data.append(sum_calculation/12)\n",
    "# scheme = mapclassify.Quantiles(heatmap_data, k=10)\n",
    "\n",
    "geoplot.choropleth(\n",
    "    map, hue=heatmap_data, cmap=\"YlGnBu\", figsize=(15, 6), projection=gcrs.AlbersEqualArea(), legend=True\n",
    ")\n",
    "\n",
    "# plt.savefig(\"figures/pocet-skol-mapka.png\", transparent=True, dpi=300, bbox_inches = 'tight')"
   ]
  },
  {
   "attachments": {},
   "cell_type": "markdown",
   "metadata": {},
   "source": [
    "## Histograms"
   ]
  },
  {
   "cell_type": "code",
   "execution_count": null,
   "metadata": {},
   "outputs": [],
   "source": [
    "plt.hist(years[2010][\"priemerna_mzda\"])\n",
    "plt.show()\n",
    "plt.hist(years[2021][\"priemerna_mzda\"])\n",
    "plt.show()"
   ]
  },
  {
   "attachments": {},
   "cell_type": "markdown",
   "metadata": {},
   "source": [
    "# Stacked area chart"
   ]
  },
  {
   "attachments": {},
   "cell_type": "markdown",
   "metadata": {},
   "source": [
    "### Population"
   ]
  },
  {
   "cell_type": "code",
   "execution_count": null,
   "metadata": {},
   "outputs": [],
   "source": [
    "# set_DPI()\n",
    "okresyy = []\n",
    "for i in range(20):\n",
    "    okresyy.append(pocet_obyvatelov.iloc[i][1:].to_list())\n",
    "# make the fig size bigger of subplots\n",
    "fig, ax = plt.subplots(figsize=(6, 12))\n",
    "colors = sb.color_palette(\"YlGnBu\", 7)\n",
    "plt.stackplot(years_range, okresyy, labels=pocet_obyvatelov[\"Okres\"].to_list()[:20], colors=colors)\n",
    "plt.legend(loc = \"upper center\", bbox_to_anchor=(1.1, 0.8), ncol=1)\n",
    "plt.show()"
   ]
  },
  {
   "attachments": {},
   "cell_type": "markdown",
   "metadata": {},
   "source": [
    "# Anomalies"
   ]
  },
  {
   "cell_type": "code",
   "execution_count": null,
   "metadata": {},
   "outputs": [],
   "source": [
    "# yyy = pd.DataFrame()\n",
    "# for y in range(2010,2022):\n",
    "    # yyy[years[2010].iloc[47][1:].keys().to_list()[y - 2011]] = years[y].iloc[47][1:].to_list()\n",
    "# print(yyy)\n",
    "\n",
    "# print(yyy.corr())\n",
    "# .corr()\n",
    "# dataplot=sb.heatmap(sum_of_correlations, annot=True, cmap=\"YlGnBu\", ax = ax)"
   ]
  },
  {
   "cell_type": "code",
   "execution_count": null,
   "metadata": {},
   "outputs": [],
   "source": [
    "# find Presov okres in dataframe and get row\n",
    "# print(years[2010].iloc[47])\n",
    "yy = pd.DataFrame(years[2010].columns)\n",
    "# print(yy)\n",
    "# yy = pd.DataFrame(\"pocet_obyvatelov\": {}, \"narodeni\": {}, \"zomreti\": {}, \"vnutorna_migracia_pristahovani\": {}, vnutorna_migracia_vystahovani )\n",
    "# years[2010].iloc[47].drop(\"Okres\")\n",
    "\n",
    "# df.append({'Name':'Jane', 'Age':25, 'Location':'Madrid'}, "
   ]
  },
  {
   "cell_type": "code",
   "execution_count": null,
   "metadata": {},
   "outputs": [],
   "source": [
    "sb.heatmap(years[2010].corr(), annot=True, cmap=\"YlGnBu\")"
   ]
  },
  {
   "attachments": {},
   "cell_type": "markdown",
   "metadata": {},
   "source": [
    "# Bar charts"
   ]
  },
  {
   "attachments": {},
   "cell_type": "markdown",
   "metadata": {},
   "source": [
    "### Vzdelanie"
   ]
  },
  {
   "cell_type": "code",
   "execution_count": null,
   "metadata": {},
   "outputs": [],
   "source": [
    "# set_DPI()\n",
    "fig = plt.figure(figsize=(10, 15))\n",
    "# plt.plot(x, y)\n",
    "# plt.show()\n",
    "\n",
    "years_range = list(range(2010,2022))\n",
    "gymn = []\n",
    "sos = []\n",
    "\n",
    "for year in years_range:\n",
    "    gymn.append(sum(pocet_gymnazii[year]))\n",
    "    sos.append(sum(pocet_strednych_odbornych_skol[year]))\n",
    "\n",
    "X_axis = np.arange(len(years_range))\n",
    "plt.bar(X_axis, gymn, label = 'Gymnáziá', color='#243187')\n",
    "plt.bar(X_axis, sos, bottom=gymn, label = 'Stredné odborné školy', color='#458EBC')\n",
    "\n",
    "# plt.bar(X_axis - 0.2, gymn, 0.4, label = 'Gymnáziá')\n",
    "# plt.bar(X_axis + 0.2, sos, 0.4, label = 'Stredné odborné školy')\n",
    "\n",
    "plt.xticks(X_axis, years_range, rotation=45)\n",
    "plt.yticks(np.arange(0, 800, 25))\n",
    "# plt.xlabel(\"Rok\")\n",
    "plt.ylabel(\"Počet škôl\")\n",
    "plt.grid(color = '#458EBC', linestyle = '--', linewidth = 0.5)\n",
    "ax.ticklabel_format(style='plain')\n",
    "plt.legend(bbox_to_anchor=(1, 1))\n",
    "plt.ylim(100, 750)\n",
    "\n",
    "plt.show()\n",
    "fig.savefig(\"figures/pocet-skol-bar-casovy.png\", transparent=True, dpi=300, bbox_inches = 'tight')\n"
   ]
  },
  {
   "attachments": {},
   "cell_type": "markdown",
   "metadata": {},
   "source": [
    "### Migracia"
   ]
  },
  {
   "cell_type": "code",
   "execution_count": null,
   "metadata": {},
   "outputs": [],
   "source": [
    "# set_DPI()\n",
    "fig = plt.figure(figsize=(25, 15))\n",
    "# plt.plot(x, y)\n",
    "# plt.show()\n",
    "dicti = {}\n",
    "for i in range(79):\n",
    "    # if (years[2013][\"vnutorna_migracia_pristahovani\"][i] > years[2013][\"vnutorna_migracia_vystahovani\"][i]):\n",
    "    #     print(years[2013][\"Okres\"][i], years[2013][\"vnutorna_migracia_pristahovani\"][i] / years[2013][\"vnutorna_migracia_vystahovani\"][i])\n",
    "    # else:\n",
    "    #     print(years[2013][\"Okres\"][i] + \" -\" + str(years[2013][\"vnutorna_migracia_vystahovani\"][i] / years[2013][\"vnutorna_migracia_pristahovani\"][i]))\n",
    "    # print(years[2013][\"Okres\"][i], years[2013][\"vnutorna_migracia_pristahovani\"][i] - years[2013][\"vnutorna_migracia_vystahovani\"][i])\n",
    "    dicti[years[2012][\"Okres\"][i]] = years[2012][\"vnutorna_migracia_pristahovani\"][i] - years[2012][\"vnutorna_migracia_vystahovani\"][i]\n",
    "\n",
    "dicti = {k: v for k, v in reversed(sorted(dicti.items(), key=lambda item: item[1]))}\n",
    "plt.xticks(rotation=90)\n",
    "print(dicti)\n",
    "ax.annotate(\"Presov\", xy=(0, 0), xytext=(0, 0), color='red')\n",
    "plt.grid(color = '#458EBC', linestyle = '--', linewidth = 0.5)\n",
    "pps = plt.bar(list(dicti.keys()), list(dicti.values()))\n",
    "for p in pps:\n",
    "    height = p.get_height()  \n",
    "    # get index of p in pps\n",
    "    i = pps.index(p)\n",
    "    if (height > 0):\n",
    "        plt.annotate(list(dicti.keys())[i],\n",
    "            xy=(p.get_x() + p.get_width() / 2, height),\n",
    "            xytext=(0, 3), # 3 points vertical offset\n",
    "            textcoords=\"offset points\",\n",
    "            rotation=90,\n",
    "        ha='center', va='bottom')\n",
    "    else:\n",
    "        plt.annotate(list(dicti.keys())[i],\n",
    "            xy=(p.get_x() + p.get_width() / 2, height - len(str(list(dicti.keys())[i]))*30),\n",
    "            xytext=(0, 3), # 3 points vertical offset\n",
    "            textcoords=\"offset points\",\n",
    "            rotation=90,\n",
    "        ha='center', va='bottom')\n",
    "plt.ylim(-1500, 2100)\n",
    "plt.xticks(np.arange(2000, -800, 100))\n",
    "plt.show()\n",
    "\n",
    "fig.savefig(\"figures/anomalie-velky-bar.png\", transparent=True, dpi=300, bbox_inches = 'tight')\n",
    "\n",
    "\"\"\"\n",
    "X_axis = np.arange(len(years_range))\n",
    "plt.bar(X_axis, gymn, label = 'Gymnáziá', color='#243187')\n",
    "plt.bar(X_axis, sos, bottom=gymn, label = 'Stredné odborné školy', color='#458EBC')\n",
    "\n",
    "# plt.bar(X_axis - 0.2, gymn, 0.4, label = 'Gymnáziá')\n",
    "# plt.bar(X_axis + 0.2, sos, 0.4, label = 'Stredné odborné školy')\n",
    "\n",
    "plt.xticks(X_axis, years_range, rotation=45)\n",
    "plt.yticks(np.arange(0, 800, 25))\n",
    "# plt.xlabel(\"Rok\")\n",
    "plt.ylabel(\"Počet škôl\")\n",
    "plt.grid(color = '#458EBC', linestyle = '--', linewidth = 0.5)\n",
    "ax.ticklabel_format(style='plain')\n",
    "plt.legend(bbox_to_anchor=(1, 1))\n",
    "plt.ylim(100, 750)\n",
    "\n",
    "plt.show()\n",
    "fig.savefig(\"figures/pocet-skol-bar-casovy.png\", transparent=True, dpi=300, bbox_inches = 'tight')\n",
    "\"\"\""
   ]
  },
  {
   "attachments": {},
   "cell_type": "markdown",
   "metadata": {},
   "source": [
    "# TABLES"
   ]
  },
  {
   "cell_type": "code",
   "execution_count": null,
   "metadata": {},
   "outputs": [],
   "source": [
    "\"\"\"\n",
    "fig, ax = plt.subplots()\n",
    "\n",
    "# fig.size\n",
    "# hide axes\n",
    "fig.patch.set_visible(False)\n",
    "ax.axis('off')\n",
    "ax.axis('tight')\n",
    "fig.set_dpi(300)\n",
    "\"\"\"\n",
    "\n",
    "dataframee = priemerna_mzda\n",
    "\n",
    "priemerne_hodnoty = {}\n",
    "for i in range(len(priemerna_mzda)):\n",
    "    priemerne_hodnoty[dataframee.iloc[i][\"Okres\"]] = sum(dataframee.iloc[i].iloc[1:].to_list())/12\n",
    "# priemerne_hodnoty.sort(key=lambda x: x[1], reverse=True)\n",
    "priemerne_hodnoty = {k: v for k, v in sorted(priemerne_hodnoty.items(), key=lambda item: item[1])}\n",
    "priemerne_hodnoty = dict(reversed(list(priemerne_hodnoty.items())))\n",
    "\n",
    "# print top 5\n",
    "print(list(priemerne_hodnoty.items())[:5])\n",
    "\n",
    "\"\"\"\n",
    "df = pd.DataFrame(columns=[\"Najvyššie\", \"Najnižšie\"])\n",
    "df[\"Najvyššie\"] = years[2010].iloc[47][1:].to_list()\n",
    "df[\"Najnižšie\"] = years[2021].iloc[47][1:].to_list()\n",
    "ax.table(cellText=df.values, colLabels=df.columns, loc='center')\n",
    "\n",
    "fig.tight_layout()\n",
    "# fig.suptitle(\"Table\")\n",
    "plt.show()\n",
    "\"\"\""
   ]
  },
  {
   "attachments": {},
   "cell_type": "markdown",
   "metadata": {},
   "source": [
    "# Predictions"
   ]
  },
  {
   "attachments": {},
   "cell_type": "markdown",
   "metadata": {},
   "source": [
    "### Vzdelanie prediction "
   ]
  },
  {
   "cell_type": "code",
   "execution_count": null,
   "metadata": {},
   "outputs": [],
   "source": [
    "pocet_gymnaziii = []\n",
    "for year in range(2010,2022):\n",
    "    pocet_gymnazii.append(sum(years[year][\"pocet_gymnazii\"]))\n",
    "sb.lineplot(x=years_range, y=pocet_gymnazii)\n",
    "print(\"Prediction for 2030: \", np.polyfit(years_range, pocet_gymnazii, 1)[0]*2030 + np.polyfit(years_range, pocet_gymnazii, 1)[1])"
   ]
  },
  {
   "cell_type": "code",
   "execution_count": null,
   "metadata": {},
   "outputs": [],
   "source": [
    "pocet_strednych_odbornych_skoll = []\n",
    "for year in range(2010,2022):\n",
    "    pocet_strednych_odbornych_skoll.append(sum(years[year][\"pocet_strednych_odbornych_skol\"]))\n",
    "sb.lineplot(x=years_range, y=pocet_strednych_odbornych_skoll)\n",
    "print(\"Prediction for 2030: \", np.polyfit(years_range, pocet_strednych_odbornych_skoll, 1)[0]*2030 + np.polyfit(years_range, pocet_strednych_odbornych_skoll, 1)[1])"
   ]
  },
  {
   "attachments": {},
   "cell_type": "markdown",
   "metadata": {},
   "source": [
    "### Populacia prediction"
   ]
  },
  {
   "attachments": {},
   "cell_type": "markdown",
   "metadata": {},
   "source": [
    "### Mzda prediction"
   ]
  },
  {
   "cell_type": "code",
   "execution_count": null,
   "metadata": {},
   "outputs": [],
   "source": [
    "presov = priemerna_mzda[priemerna_mzda[\"Okres\"] == \"Okres Prešov\"].iloc[0].to_list()[1:]\n",
    "\n",
    "bratislava_I = priemerna_mzda[priemerna_mzda[\"Okres\"] == \"Okres Bratislava I\"].iloc[0].to_list()[1:]\n",
    "bratislava_II = priemerna_mzda[priemerna_mzda[\"Okres\"] == \"Okres Bratislava II\"].iloc[0].to_list()[1:]\n",
    "bratislava_III = priemerna_mzda[priemerna_mzda[\"Okres\"] == \"Okres Bratislava III\"].iloc[0].to_list()[1:]\n",
    "bratislava_IV = priemerna_mzda[priemerna_mzda[\"Okres\"] == \"Okres Bratislava IV\"].iloc[0].to_list()[1:]\n",
    "bratislava_V = priemerna_mzda[priemerna_mzda[\"Okres\"] == \"Okres Bratislava V\"].iloc[0].to_list()[1:]\n",
    "\n",
    "# make a predition where x=2030 year, and y = every list bratislava and x=years_range, also include name of the list in print\n",
    "print(\"Prediction for 2030 Bratislava I: \", np.polyfit(years_range, bratislava_I, 1)[0]*2030 + np.polyfit(years_range, bratislava_I, 1)[1])\n",
    "print(\"Prediction for 2030 Bratislava II: \", np.polyfit(years_range, bratislava_II, 1)[0]*2030 + np.polyfit(years_range, bratislava_II, 1)[1])\n",
    "print(\"Prediction for 2030 Bratislava III: \", np.polyfit(years_range, bratislava_III, 1)[0]*2030 + np.polyfit(years_range, bratislava_III, 1)[1])\n",
    "print(\"Prediction for 2030 Bratislava IV: \", np.polyfit(years_range, bratislava_IV, 1)[0]*2030 + np.polyfit(years_range, bratislava_IV, 1)[1])\n",
    "print(\"Prediction for 2030 Bratislava V: \", np.polyfit(years_range, bratislava_V, 1)[0]*2030 + np.polyfit(years_range, bratislava_V, 1)[1])\n",
    "\n",
    "bardejov = priemerna_mzda[priemerna_mzda[\"Okres\"] == \"Okres Bardejov\"].iloc[0].to_list()[1:]\n",
    "# make a prediction where x=2030 year, and y = medzilaborcee and x=years_range\n",
    "print(\"Prediction for 2030 Bardejov: \", np.polyfit(years_range, bardejov, 1)[0]*2030 + np.polyfit(years_range, bardejov, 1)[1])\n",
    "\n",
    "snina = priemerna_mzda[priemerna_mzda[\"Okres\"] == \"Okres Snina\"].iloc[0].to_list()[1:]\n",
    "# make a prediction where x=2030 year, and y = snina and x=years_range\n",
    "print(\"Prediction for 2030 Snina: \", np.polyfit(years_range, snina, 1)[0]*2030 + np.polyfit(years_range, snina, 1)[1])\n",
    "\n",
    "velky_krtis = priemerna_mzda[priemerna_mzda[\"Okres\"] == \"Okres Veľký Krtíš\"].iloc[0].to_list()[1:]\n",
    "# make a prediction where x=2030 year, and y = velky_krtis and x=years_range\n",
    "print(\"Prediction for 2030 Veľký Krtíš: \", np.polyfit(years_range, velky_krtis, 1)[0]*2030 + np.polyfit(years_range, velky_krtis, 1)[1])\n",
    "\n",
    "\n",
    "\n",
    "# make a prediction where x=2030 year, and y = presov and x=years_range\n",
    "print(\"Prediction for 2030 Prešov: \", np.polyfit(years_range, presov, 1)[0]*2030 + np.polyfit(years_range, presov, 1)[1])\n",
    "\n"
   ]
  },
  {
   "attachments": {},
   "cell_type": "markdown",
   "metadata": {},
   "source": [
    "### Vzdelanie predictoin"
   ]
  },
  {
   "cell_type": "code",
   "execution_count": null,
   "metadata": {},
   "outputs": [],
   "source": [
    "a = pocet_gymnazii[pocet_gymnazii[\"Okres\"] == \"Okres Prešov\"].iloc[0].to_list()[1:]\n",
    "b = pocet_strednych_odbornych_skol[pocet_strednych_odbornych_skol[\"Okres\"] == \"Okres Prešov\"].iloc[0].to_list()[1:]\n",
    "spolu_skoly_presov = []\n",
    "for i in range(len(a)):\n",
    "    spolu_skoly_presov.append(a[i] + b[i])\n",
    "\n",
    "# make a prediction where x=2030 year, and y = spolu_skoly_presov and x=years_range\n",
    "print(\"Prediction for 2030 Prešov: \", np.polyfit(years_range, spolu_skoly_presov, 1)[0]*2030 + np.polyfit(years_range, spolu_skoly_presov, 1)[1])\n",
    "\n",
    "a = pocet_gymnazii[pocet_gymnazii[\"Okres\"] == \"Okres Bratislava II\"].iloc[0].to_list()[1:]\n",
    "b = pocet_strednych_odbornych_skol[pocet_strednych_odbornych_skol[\"Okres\"] == \"Okres Bratislava II\"].iloc[0].to_list()[1:]\n",
    "spolu_skoly_ba = []\n",
    "for i in range(len(a)):\n",
    "    spolu_skoly_ba.append(a[i] + b[i])\n",
    "\n",
    "# make a prediction where x=2030 year, and y = spolu_skoly_presov and x=years_range\n",
    "print(\"Prediction for 2030 Bratislava II: \", np.polyfit(years_range, spolu_skoly_ba, 1)[0]*2030 + np.polyfit(years_range, spolu_skoly_ba, 1)[1])"
   ]
  }
 ],
 "metadata": {
  "kernelspec": {
   "display_name": "base",
   "language": "python",
   "name": "python3"
  },
  "language_info": {
   "codemirror_mode": {
    "name": "ipython",
    "version": 3
   },
   "file_extension": ".py",
   "mimetype": "text/x-python",
   "name": "python",
   "nbconvert_exporter": "python",
   "pygments_lexer": "ipython3",
   "version": "3.9.7"
  },
  "orig_nbformat": 4,
  "vscode": {
   "interpreter": {
    "hash": "c11202d2846b22eec7deaf37ea813ba92a5f75b5344a4d16688175855af7948e"
   }
  }
 },
 "nbformat": 4,
 "nbformat_minor": 2
}
